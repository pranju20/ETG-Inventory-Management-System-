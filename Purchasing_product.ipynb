{
  "nbformat": 4,
  "nbformat_minor": 0,
  "metadata": {
    "colab": {
      "name": "Purchasing product.ipynb",
      "provenance": [],
      "collapsed_sections": []
    },
    "kernelspec": {
      "name": "python3",
      "display_name": "Python 3"
    },
    "language_info": {
      "name": "python"
    }
  },
  "cells": [
    {
      "cell_type": "code",
      "metadata": {
        "id": "moivcAVm2bLs"
      },
      "source": [
        "import json\n",
        "\n",
        "fd = open(\"new_record.json\",'r')\n",
        "r = fd.read()\n",
        "fd.close()\n",
        "\n",
        "records = json.loads(r)\n",
        "sales={}"
      ],
      "execution_count": null,
      "outputs": []
    },
    {
      "cell_type": "code",
      "metadata": {
        "id": "Svb1siSX2giu"
      },
      "source": [
        "records"
      ],
      "execution_count": null,
      "outputs": []
    },
    {
      "cell_type": "code",
      "metadata": {
        "id": "5EqPhJSV1bPw"
      },
      "source": [
        "ui_prod  = str(input(\"Enter the product_Id: \"))\n",
        "ui_quant = int(input(\"Enter the quantity: \"))\n",
        "if ui_quant > records[ui_prod]['qn'] :\n",
        "  print(\"You have exceeded the maximum Quantity limit\")\n",
        "  print('Quantity available', records[ui_prod]['qn'] )  \n",
        "else:  \n",
        "  item_no =int(input(\"Item Number : \"))\n",
        "  print(\"Product: \", records[ui_prod]['name'])\n",
        "  print(\"Price: \", records[ui_prod]['pr'])\n",
        "  print(\"Billing Amount: \", records[ui_prod]['pr'] * ui_quant + (records[ui_prod]['tax']* ui_quant))\n",
        "  records[ui_prod]['qn'] = records[ui_prod]['qn'] - ui_quant"
      ],
      "execution_count": null,
      "outputs": []
    },
    {
      "cell_type": "code",
      "metadata": {
        "id": "mDnkrs7eJvdT"
      },
      "source": [
        "js = json.dumps(records)\n",
        "\n",
        "fd = open(\"new_record.json\",'w')\n",
        "fd.write(js)\n",
        "fd.close()"
      ],
      "execution_count": null,
      "outputs": []
    },
    {
      "cell_type": "code",
      "metadata": {
        "id": "GO9ALnB3Ku4f"
      },
      "source": [
        "\n",
        "sales[item_no] = {'prod' : ui_prod, 'qn' : ui_quant, 'amount': records[ui_prod]['pr'] * ui_quant + (records[ui_prod]['tax']* ui_quant)}\n",
        "\n",
        "sale = json.dumps(sales)"
      ],
      "execution_count": null,
      "outputs": []
    },
    {
      "cell_type": "code",
      "metadata": {
        "id": "MtTK1w1jJ3oO"
      },
      "source": [
        "fd = open(\"sale.json\",'w')\n",
        "fd.write(sale)\n",
        "fd.close()"
      ],
      "execution_count": null,
      "outputs": []
    },
    {
      "cell_type": "code",
      "metadata": {
        "id": "dNgv4T3qLoZd"
      },
      "source": [
        "fd = open(\"sale.json\",'r')\n",
        "r = fd.read()\n",
        "fd.close()\n",
        "\n",
        "sales = json.loads(r)"
      ],
      "execution_count": null,
      "outputs": []
    },
    {
      "cell_type": "code",
      "metadata": {
        "id": "rtdPq4oBUgn5"
      },
      "source": [
        "totalbilingamt=0\n",
        "\n",
        "for i in sales:  \n",
        "  totalbilingamt += sales[i]['amount']\n",
        "  "
      ],
      "execution_count": null,
      "outputs": []
    },
    {
      "cell_type": "code",
      "metadata": {
        "id": "VK3lOIWjjh2f"
      },
      "source": [
        "import time\n",
        "t = time.ctime()"
      ],
      "execution_count": null,
      "outputs": []
    },
    {
      "cell_type": "code",
      "metadata": {
        "id": "FgbgBLHCWiJg"
      },
      "source": [
        "Total=json.dumps(\"Total Amount :\")\n",
        "tba = json.dumps(totalbilingamt)\n",
        "bill_time = json.dumps(\"Billing Time : \")\n",
        "t =json.dumps(t)\n",
        "\n",
        "fd = open(\"sale.json\",'a')\n",
        "\n",
        "fd.write(Total)\n",
        "fd.write(tba)\n",
        "fd.write(bill_time)\n",
        "fd.write(t)\n",
        "\n",
        "fd.close()"
      ],
      "execution_count": null,
      "outputs": []
    }
  ]
}