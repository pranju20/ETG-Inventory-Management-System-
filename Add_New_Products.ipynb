{
  "nbformat": 4,
  "nbformat_minor": 0,
  "metadata": {
    "colab": {
      "name": "Add New Products.ipynb",
      "provenance": [],
      "collapsed_sections": []
    },
    "kernelspec": {
      "name": "python3",
      "display_name": "Python 3"
    },
    "language_info": {
      "name": "python"
    }
  },
  "cells": [
    {
      "cell_type": "code",
      "metadata": {
        "id": "865ftVuhVtpc"
      },
      "source": [
        "import json\n",
        "fd = open(\"new_record.json\",'r')\n",
        "r = fd.read()\n",
        "fd.close()\n",
        "\n",
        "record = json.loads(r)"
      ],
      "execution_count": null,
      "outputs": []
    },
    {
      "cell_type": "code",
      "metadata": {
        "id": "RNQzUXghw5Tm"
      },
      "source": [
        "record"
      ],
      "execution_count": null,
      "outputs": []
    },
    {
      "cell_type": "code",
      "metadata": {
        "id": "EKWNxtpTxEwy"
      },
      "source": [
        "prod_id = str(input(\"Enter product id:\"))\n",
        "name = str(input(\"Enter name:\"))\n",
        "pr = int(input(\"Enter price:\"))\n",
        "qn = int(input(\"Enter quantity:\"))\n",
        "tax = int(input(\"Enter tax :\"))\n",
        "best_before = int(input(\"Enter no. of months:\"))\n",
        "\n",
        "for i in record.keys():\n",
        "  if prod_id == i:\n",
        "     qn = record[prod_id]['qn'] + qn\n",
        "     break\n",
        "\n",
        "\n",
        "record[prod_id] = {'name': name, 'pr': pr, 'qn': qn, 'tax': tax, 'best_before': best_before}\n",
        "\n",
        "js = json.dumps(record)\n",
        "\n",
        "fd = open(\"new_record.json\",'w')\n",
        "fd.write(js)\n",
        "fd.close()"
      ],
      "execution_count": null,
      "outputs": []
    }
  ]
}